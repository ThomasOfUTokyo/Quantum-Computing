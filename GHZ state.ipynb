{
 "cells": [
  {
   "cell_type": "code",
   "execution_count": 56,
   "id": "4d55a17e",
   "metadata": {},
   "outputs": [
    {
     "name": "stdout",
     "output_type": "stream",
     "text": [
      "Requirement already satisfied: tensornetwork in /Users/jingtianmao/tensorflow-test/env/lib/python3.8/site-packages (0.4.6)\r\n",
      "Requirement already satisfied: opt-einsum>=2.3.0 in /Users/jingtianmao/tensorflow-test/env/lib/python3.8/site-packages (from tensornetwork) (3.3.0)\r\n",
      "Requirement already satisfied: scipy>=1.1 in /Users/jingtianmao/tensorflow-test/env/lib/python3.8/site-packages (from tensornetwork) (1.7.3)\r\n",
      "Requirement already satisfied: h5py>=2.9.0 in /Users/jingtianmao/tensorflow-test/env/lib/python3.8/site-packages (from tensornetwork) (3.6.0)\r\n",
      "Requirement already satisfied: graphviz>=0.11.1 in /Users/jingtianmao/tensorflow-test/env/lib/python3.8/site-packages (from tensornetwork) (0.20.1)\r\n",
      "Requirement already satisfied: numpy>=1.17 in /Users/jingtianmao/tensorflow-test/env/lib/python3.8/site-packages (from tensornetwork) (1.22.3)\r\n"
     ]
    }
   ],
   "source": [
    "!pip install tensornetwork"
   ]
  },
  {
   "cell_type": "code",
   "execution_count": 57,
   "id": "a5ea8785",
   "metadata": {},
   "outputs": [],
   "source": [
    "import tensornetwork as tn"
   ]
  },
  {
   "cell_type": "code",
   "execution_count": 58,
   "id": "f0918c55",
   "metadata": {},
   "outputs": [],
   "source": [
    "import numpy as np\n",
    "\n",
    "h_gate = np.array([[1, 1], [1, -1]]) / np.sqrt(2)\n",
    "\n",
    "cx_gate_1 = np.array([[1, 0, 0, 0], [0, 1, 0, 0], [0, 0, 0, 1], [0, 0, 1, 0]])\n",
    "\n",
    "cx_gate_2 = np.array([[1, 0, 0, 0], [0, 1, 0, 0], [0, 0, 0, 1], [0, 0, 1, 0]])"
   ]
  },
  {
   "cell_type": "code",
   "execution_count": 59,
   "id": "322812be",
   "metadata": {},
   "outputs": [],
   "source": [
    "# Create a list for storing the nodes corresponding to the initial state\n",
    "initial_state_nodes = list()\n",
    "\n",
    "for i in range(3):\n",
    "    initial_state_nodes.append(tn.Node(np.array([1, 0]))) # insert 0 state = [1, 0]\n",
    "\n",
    "#print(initial_state_nodes)"
   ]
  },
  {
   "cell_type": "code",
   "execution_count": 60,
   "id": "02b64f54",
   "metadata": {},
   "outputs": [],
   "source": [
    "# Create a list for storing the nodes corresponding to each gate\n",
    "gate_nodes = list()\n",
    "\n",
    "gate_nodes.append(tn.Node(h_gate)) # Hadamard gate\n",
    "gate_nodes.append(tn.Node(cx_gate_1.reshape(2,2,2,2))) # CNOT gate1. Reshape to 2x2x2x2 tensor\n",
    "gate_nodes.append(tn.Node(cx_gate_2.reshape(2,2,2,2))) # CNOT gate2. Reshape to 2x2x2x2 tensor\n",
    "#print(gate_nodes)"
   ]
  },
  {
   "cell_type": "code",
   "execution_count": 66,
   "id": "b46b262a",
   "metadata": {},
   "outputs": [],
   "source": [
    "# Create a list for stroing the nodes corresponding to the final state\n",
    "final_state_nodes = list()\n",
    "\n",
    "for i in range(3):\n",
    "    final_state_nodes.append(tn.Node(np.array([1, 0]))) # insert 0 state = [1, 0]"
   ]
  },
  {
   "cell_type": "code",
   "execution_count": 67,
   "id": "9ed04507",
   "metadata": {},
   "outputs": [
    {
     "data": {
      "text/plain": [
       "\n",
       "Edge('__unnamed_node__'[3] -> '__unnamed_node__'[0] )"
      ]
     },
     "execution_count": 67,
     "metadata": {},
     "output_type": "execute_result"
    }
   ],
   "source": [
    "# 0 : from initial state of 1st qubit to input of H gate\n",
    "tn.connect(initial_state_nodes[0][0], gate_nodes[0][0])\n",
    "\n",
    "# 1 : from output of H gate to 1st input of CX1 gate\n",
    "tn.connect(gate_nodes[0][1], gate_nodes[1][0])\n",
    "\n",
    "# 2 : from initial state of 2nd qubit to 2nd input of CX1 gate\n",
    "tn.connect(initial_state_nodes[1][0], gate_nodes[1][1])\n",
    "\n",
    "# 3 : from initial state of 3rd qubit to 2nd input of CX2 gate\n",
    "tn.connect(initial_state_nodes[2][0], gate_nodes[2][1])\n",
    "\n",
    "# 4 : from 1st output of CX1 gate to 1st input of CX2 gate\n",
    "tn.connect(gate_nodes[1][2], gate_nodes[2][0])\n",
    "\n",
    "# 5 : from 2nd output of CX1 gate to final state of 2nd qubit\n",
    "tn.connect(gate_nodes[1][3], final_state_nodes[1][0])\n",
    "\n",
    "# 6 : from 1st output of CX2 gate to final state of 1st qubit\n",
    "tn.connect(gate_nodes[2][2], final_state_nodes[0][0])\n",
    "\n",
    "# 7 : from 2nd output of CX2 gate to final state of 3rd qubit\n",
    "tn.connect(gate_nodes[2][3], final_state_nodes[2][0])"
   ]
  },
  {
   "cell_type": "code",
   "execution_count": 68,
   "id": "f55c6551",
   "metadata": {},
   "outputs": [],
   "source": [
    "all_nodes = initial_state_nodes + gate_nodes + final_state_nodes\n",
    "\n",
    "result = tn.contractors.auto(nodes=all_nodes)"
   ]
  },
  {
   "cell_type": "code",
   "execution_count": 69,
   "id": "173c475e",
   "metadata": {},
   "outputs": [
    {
     "data": {
      "text/plain": [
       "array(0.70710678)"
      ]
     },
     "execution_count": 69,
     "metadata": {},
     "output_type": "execute_result"
    }
   ],
   "source": [
    "result.tensor"
   ]
  },
  {
   "cell_type": "code",
   "execution_count": 70,
   "id": "49428735",
   "metadata": {},
   "outputs": [
    {
     "data": {
      "text/plain": [
       "0.4999999999999999"
      ]
     },
     "execution_count": 70,
     "metadata": {},
     "output_type": "execute_result"
    }
   ],
   "source": [
    "result.tensor ** 2"
   ]
  },
  {
   "cell_type": "code",
   "execution_count": null,
   "id": "1f1c3c50",
   "metadata": {},
   "outputs": [],
   "source": []
  }
 ],
 "metadata": {
  "kernelspec": {
   "display_name": "Python 3 (ipykernel)",
   "language": "python",
   "name": "python3"
  },
  "language_info": {
   "codemirror_mode": {
    "name": "ipython",
    "version": 3
   },
   "file_extension": ".py",
   "mimetype": "text/x-python",
   "name": "python",
   "nbconvert_exporter": "python",
   "pygments_lexer": "ipython3",
   "version": "3.8.13"
  }
 },
 "nbformat": 4,
 "nbformat_minor": 5
}
